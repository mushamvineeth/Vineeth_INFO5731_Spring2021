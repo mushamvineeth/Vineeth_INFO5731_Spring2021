{
  "nbformat": 4,
  "nbformat_minor": 0,
  "metadata": {
    "colab": {
      "name": "INFO5731_Assignment_One-1.ipynb",
      "provenance": [],
      "collapsed_sections": [],
      "include_colab_link": true
    },
    "kernelspec": {
      "display_name": "Python 3",
      "language": "python",
      "name": "python3"
    },
    "language_info": {
      "codemirror_mode": {
        "name": "ipython",
        "version": 3
      },
      "file_extension": ".py",
      "mimetype": "text/x-python",
      "name": "python",
      "nbconvert_exporter": "python",
      "pygments_lexer": "ipython3",
      "version": "3.7.4"
    }
  },
  "cells": [
    {
      "cell_type": "markdown",
      "metadata": {
        "id": "view-in-github",
        "colab_type": "text"
      },
      "source": [
        "<a href=\"https://colab.research.google.com/github/mushamvineeth/Vineeth_INFO5731_Spring2021/blob/main/INFO5731_Assignment_One_1.ipynb\" target=\"_parent\"><img src=\"https://colab.research.google.com/assets/colab-badge.svg\" alt=\"Open In Colab\"/></a>"
      ]
    },
    {
      "cell_type": "markdown",
      "metadata": {
        "id": "Ryk8D1Q4Wsrp"
      },
      "source": [
        "# **INFO5731 Assignment One**"
      ]
    },
    {
      "cell_type": "markdown",
      "metadata": {
        "id": "90_NR8c5XGWc"
      },
      "source": [
        "# Question 1\n",
        "\n",
        "(20 points). Write a Python program to generate 12 random numbers between 1 and 100. Sort the list of numbers in ascending order and print it out. Sort the list of numbers in descending order and print it out. Calculate the average for the group and print it out."
      ]
    },
    {
      "cell_type": "code",
      "metadata": {
        "colab": {
          "base_uri": "https://localhost:8080/"
        },
        "id": "5QX6bJjGWXY9",
        "outputId": "94f1bb94-97e6-4c12-bfa9-8e3b098c032b"
      },
      "source": [
        "# Your code here\n",
        "\n",
        "import random\n",
        "random_list = random.sample(range(1,100), 12)\n",
        "print (\"randomlist  is:\", random_list)\n",
        "randomlist.sort()\n",
        "\n",
        "\n",
        "#Ascending\n",
        "random_list.sort()\n",
        "print (\" Ascending order randomlist  is:\", random_list)\n",
        "randomlist\n",
        "\n",
        "# Descending order \n",
        "randomlist.sort(reverse=True)\n",
        "print (\" Descending order randomlist  is:\", random_list)\n",
        "randomlist\n",
        "\n",
        "# avg \n",
        "\n",
        "avg = sum(randomlist) / len(randomlist)    \n",
        "avg\n",
        "\n",
        "\n",
        "\n",
        "\n",
        "\n"
      ],
      "execution_count": 3,
      "outputs": [
        {
          "output_type": "stream",
          "text": [
            "randomlist  is: [37, 43, 61, 53, 62, 87, 90, 80, 55, 4, 86, 25]\n",
            " Ascending order randomlist  is: [4, 25, 37, 43, 53, 55, 61, 62, 80, 86, 87, 90]\n",
            " Descending order randomlist  is: [4, 25, 37, 43, 53, 55, 61, 62, 80, 86, 87, 90]\n"
          ],
          "name": "stdout"
        },
        {
          "output_type": "execute_result",
          "data": {
            "text/plain": [
              "52.083333333333336"
            ]
          },
          "metadata": {
            "tags": []
          },
          "execution_count": 3
        }
      ]
    },
    {
      "cell_type": "markdown",
      "metadata": {
        "id": "1F_PZdH9Sh49"
      },
      "source": [
        "# Question 2\n",
        "(25 points). Write a program that will do the following string formatting tasks:\n",
        "\n",
        "(1) Ask the user to enter two sentences.\n",
        "\n",
        "(2) Make each sentence into a list. Each element in the list should correspond to a word in the sentence. For example, if the sentence is \"Alas! Am I alive? This is my first python program\", the program should print out ['Alas, '!', 'Am', 'I', 'alive, '?', 'This', 'is', 'my', 'first', 'python', 'program'].\n",
        "\n",
        "(3) Compare the two sentences. Print out a list of words that occur in both sentences.\n",
        "\n",
        "(4) Remove any punctuation from the sentence and print it back out. It should remove at least the following characters, but it can remove more: period(“.”), comma (“,”), semicolon (“;”), and colon (“:”)\n",
        "\n",
        "(5) Count the number of vowels in the sentences. Print out each vowel and the number of times it appears in the sentences, such as: a:2, e:1, i:0, etc"
      ]
    },
    {
      "cell_type": "code",
      "metadata": {
        "colab": {
          "base_uri": "https://localhost:8080/"
        },
        "id": "Y0oOSlsOS0cq",
        "outputId": "45d2e33a-f575-4843-87cd-23c9fb07bf46"
      },
      "source": [
        "# Your code here\n",
        "\n",
        "# Your code here\n",
        "\n",
        "import string\n",
        "import re\n",
        "\n",
        "def punc(p):\n",
        "  punctuation = \"';:%^&\\.!?,'\"\n",
        "  for x in p:\n",
        "    if x in punctuation:\n",
        "      p=p.replace(x,\" \")\n",
        "  return(p)\n",
        "\n",
        "vowels = \"AEIOUaeiou\"\n",
        "sentence_1 = input(\" please enter the first string: \\n\")\n",
        "X = re.findall(r\"[\\w']+|['.!?,;:%^&\\']\", sentence_1)\n",
        "print(X)\n",
        "print(\"\\n\")\n",
        "sentence_2 = input(\" please enter the second string: \\n\")\n",
        "Y= re.findall(r\"[\\w']+|['.!?,;:%^&\\']\", sentence_2)\n",
        "print(Y)\n",
        "print(\"\\n\")\n",
        "print(\" removing punctuations:\")\n",
        "Z = punc(sentence_1)\n",
        "K= Z.split()\n",
        "print(K)\n",
        "M = punc(sentence_2)\n",
        "N = M.split()\n",
        "print(N)\n",
        "print(\"\\n\")\n",
        "O = K + N\n",
        "\n",
        "print(\"List of all words from both sentences are:\")\n",
        "print(O)\n",
        "full = sentence_1 + sentence_2\n",
        "count = {}.fromkeys(vowels,0)\n",
        "for char in full:\n",
        "  if char in count:\n",
        "    count[char] += 1\n",
        "print(\"\\nThe count of vowels are:\")\n",
        "print(count)\n"
      ],
      "execution_count": 22,
      "outputs": [
        {
          "output_type": "stream",
          "text": [
            " please enter the first string: \n",
            "I love my india\n",
            "['I', 'love', 'my', 'india']\n",
            "\n",
            "\n",
            " please enter the second string: \n",
            "I love python\n",
            "['I', 'love', 'python']\n",
            "\n",
            "\n",
            " removing punctuations:\n",
            "['I', 'love', 'my', 'india']\n",
            "['I', 'love', 'python']\n",
            "\n",
            "\n",
            "List of all words from both sentences are:\n",
            "['I', 'love', 'my', 'india', 'I', 'love', 'python']\n",
            "\n",
            "The count of vowels are:\n",
            "{'A': 0, 'E': 0, 'I': 2, 'O': 0, 'U': 0, 'a': 1, 'e': 2, 'i': 2, 'o': 3, 'u': 0}\n"
          ],
          "name": "stdout"
        }
      ]
    },
    {
      "cell_type": "markdown",
      "metadata": {
        "id": "CmFoI4jDS9nx"
      },
      "source": [
        "# Question 3 \n",
        "\n",
        "(15 points). The formula that describes the volume V of a sphere with radius r is the following:\n",
        "\n",
        "$ V=\\frac{4}{3}\\ast\\ \\pi\\ast\\ r^3 $\n",
        "\n",
        "Write a program to calculate the value of V when r is in the range of 1–10. Output the result in the following format:\n",
        "\n",
        "\tr\tV\n",
        "\t1\t…\n",
        "\t2\t…\n",
        "\t3\t…\n"
      ]
    },
    {
      "cell_type": "code",
      "metadata": {
        "colab": {
          "base_uri": "https://localhost:8080/"
        },
        "id": "K8KAAOWBRVe4",
        "outputId": "3642d717-9cb2-41d2-fee7-ac9f68d3a686"
      },
      "source": [
        "# Your code here\n",
        "import numpy as np\n",
        "print(\"r    v\")\n",
        "for r in range(1,11):\n",
        "  print(str(r)+\"   \"+str(np.pi*(4/3)*(r**2)))\n",
        "  np.pi"
      ],
      "execution_count": 13,
      "outputs": [
        {
          "output_type": "stream",
          "text": [
            "r    v\n",
            "1   4.1887902047863905\n",
            "2   16.755160819145562\n",
            "3   37.69911184307752\n",
            "4   67.02064327658225\n",
            "5   104.71975511965977\n",
            "6   150.79644737231007\n",
            "7   205.25072003453315\n",
            "8   268.082573106329\n",
            "9   339.29200658769764\n",
            "10   418.87902047863906\n"
          ],
          "name": "stdout"
        }
      ]
    },
    {
      "cell_type": "code",
      "metadata": {
        "colab": {
          "base_uri": "https://localhost:8080/"
        },
        "id": "pMCr3l8tnu0j",
        "outputId": "1d1a5918-31b0-46b8-8664-11b5dc627198"
      },
      "source": [
        "np.pi"
      ],
      "execution_count": 14,
      "outputs": [
        {
          "output_type": "execute_result",
          "data": {
            "text/plain": [
              "3.141592653589793"
            ]
          },
          "metadata": {
            "tags": []
          },
          "execution_count": 14
        }
      ]
    },
    {
      "cell_type": "markdown",
      "metadata": {
        "id": "z3tBE7E-Xn5X"
      },
      "source": [
        "# Question 4\n",
        "\n",
        "(40 points). In the field of Data Science, data is often formatted as a comma-delimited (CSV) file, where each line in a file corresponds to a field's value. Refer to Chapter 9 (p. 106) for more information on comma-delimited files. To answer this question, you will need to download the file [Assignment1_denton_housing.csv](https://github.com/unt-iialab/info5731_spring2021/blob/main/assignment/Assignment1_denton_housing.csv) included with this assignment. The file [Assignment1_denton_housing.csv](https://github.com/unt-iialab/info5731_spring2021/blob/main/assignment/Assignment1_denton_housing.csv) contains statistics about housing in the city of Denton from 2008 to 2014. Write a program to implement the following questions.\n",
        "\n",
        "(1) (10 pts) Calculate the difference in the number of Occupied Housing Units from year to year and print it. The difference must be calculated for the consecutive years such as 2008-2009, 2009-2010 etc. Finally, print the values in the ascending order.\n",
        "\n",
        "(2) (10 pts) For all the years, calculate the percentage of housing units which are vacant an occupied. Print the results in the following format:\n",
        "\n",
        "Year Vacant Housing Units Occupied Housing Units\n",
        "\n",
        "    2008  30%   70%                          \n",
        "\t2009 ----- -----\n",
        "\t2010 ----- -----\n",
        "    2011 ----- -----\n",
        "\t2012 ----- -----\n",
        "    2013 ----- -----\n",
        "\t2014 ----- -----\n",
        "  \n",
        "  \n",
        "\n",
        "(3) (10 pts) Calculate and print the valued and years in which the highest number of housing units were vacant and occupied. Print the results in the following format:  \n",
        "\n",
        "                              Year\tValue\n",
        "\tVacant Housing Units\t  -----   -----\n",
        "\tOccupied Housing Units\t-----   -----\n",
        "\n",
        "(4) (10 pts) Calculate the harmonic mean of the total housing units and print it out. You can find the information about harmonic mean here: https://ncalculators.com/statistics/harmonic-mean-calculator.htm"
      ]
    },
    {
      "cell_type": "code",
      "metadata": {
        "colab": {
          "resources": {
            "http://localhost:8080/nbextensions/google.colab/files.js": {
              "data": "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",
              "ok": true,
              "headers": [
                [
                  "content-type",
                  "application/javascript"
                ]
              ],
              "status": 200,
              "status_text": ""
            }
          },
          "base_uri": "https://localhost:8080/",
          "height": 1000
        },
        "id": "lqGYuHBhcsRH",
        "outputId": "9c06e409-f6ba-40a0-d550-bc9c6f88bbb7"
      },
      "source": [
        "# Your code here\n",
        "import pandas as pd\n",
        "import io\n",
        "from google.colab import files\n",
        "uploaded = files.upload()\n",
        "\n",
        "#1\n",
        "Data_frame = pd.read_csv(\"Assignment1_denton_housing.csv\")\n",
        "A = Data_frame.loc[Data_frame[\"title_field\"] == \"Occupied Housing Units\"]\n",
        "A = A.sort_values('year')\n",
        "print(\"Occupied housing office from 2008 to 2014  is:\")\n",
        "print(A)\n",
        "D = A[['value']]\n",
        "D = D.diff(periods=1, axis = 0)\n",
        "print(\"\\nThe difference between two consecutive years is:\")\n",
        "print(D)\n",
        "print(\"\\nThe difference between two consecutive years in ascending order is: \")\n",
        "D.sort_values('value')\n",
        "\n",
        "\n",
        "#For all the years this program calculates the percentage of housing units which are vacant an occupied and printed in a format year, vacant % and occupied %\n",
        "arr = ['Occupied Housing Units', 'Vacant Housing Units', 'Total Housing Units']\n",
        "main_Data_frame = Data_frame.loc[Data_frame['title_field'].isin(arr)]\n",
        "occupied = Data_frame.loc[Data_frame['title_field'] == 'Occupied Housing Units']\n",
        "vacant = Data_frame.loc[Data_frame['title_field'] == 'Vacant Housing Units']\n",
        "total = Data_frame.loc[Data_frame['title_field'] == 'Total Housing Units']\n",
        "year = occupied[['year']]\n",
        "year.index = range(7)\n",
        "ls1 = occupied.values.tolist()\n",
        "ls2 = vacant.values.tolist()\n",
        "ls3 = total.values.tolist()\n",
        "ls4 = []\n",
        "ls5 = []\n",
        "\n",
        "for i in range(0,7):\n",
        "  occupied_percent = (ls1[i][2]/ls3[i][2])*100\n",
        "  vacant_percent = (ls2[i][2]/ls3[i][2])*100\n",
        "  ls4.append(occupied_percent)\n",
        "  ls5.append(vacant_percent)\n",
        "df1 = pd.DataFrame(ls4, columns=[\"Occupied %\"])\n",
        "df2 = pd.DataFrame(ls5, columns=[\"Vacant %\"])\n",
        "df3 = pd.concat([df2,df1], axis = 1)\n",
        "new = pd.concat([year,df3], axis = 1)\n",
        "new = new.sort_values('year')\n",
        "print(new)\n",
        "\n",
        "#To calculate and to print the values and years in which the highest number of housing units were vacant and occupied and printing it in a format title_field, year and value.\n",
        "occupied_units = Data_frame.loc[Data_frame['title_field'] == 'Occupied Housing Units']\n",
        "vacant_units = Data_frame.loc[Data_frame['title_field'] == 'Vacant Housing Units']\n",
        "print(occupied_units)\n",
        "print(\"\\n\",vacant_units)\n",
        "A = vacant_units.sort_values('value', ascending = False)\n",
        "x1 = A.iloc[0].values.tolist()\n",
        "x1[0], x1[1] = x1[1],x1[0]\n",
        "B = occupied_units.sort_values('value', ascending = False)\n",
        "x2 = B.iloc[0].values.tolist()\n",
        "x2[0], x2[1] = x2[1],x2[0]\n",
        "x3 = [x1,x2]\n",
        "new_dataframe = pd.DataFrame(columns=['title_field','year','value'], data=x3)\n",
        "print(\"\\n\",new_dataframe)\n",
        "\n",
        "\n",
        "# Calculating the harmonic mean of the total housing units and print it out.\n",
        "!pip install scipy\n",
        "from scipy import stats\n",
        "p =Data_frame.loc[Data_frame['title_field'] == 'Total Housing Units']\n",
        "print(\"\\n\",p)\n",
        "print(\"\\nThe harmonic mean of the Total Housing Units is:\")\n",
        "stats.hmean(p.iloc[:,2],axis = 0)\n",
        "\n"
      ],
      "execution_count": 20,
      "outputs": [
        {
          "output_type": "display_data",
          "data": {
            "text/html": [
              "\n",
              "     <input type=\"file\" id=\"files-ca1d88d7-675b-48bc-b3d5-945ccb82d481\" name=\"files[]\" multiple disabled\n",
              "        style=\"border:none\" />\n",
              "     <output id=\"result-ca1d88d7-675b-48bc-b3d5-945ccb82d481\">\n",
              "      Upload widget is only available when the cell has been executed in the\n",
              "      current browser session. Please rerun this cell to enable.\n",
              "      </output>\n",
              "      <script src=\"/nbextensions/google.colab/files.js\"></script> "
            ],
            "text/plain": [
              "<IPython.core.display.HTML object>"
            ]
          },
          "metadata": {
            "tags": []
          }
        },
        {
          "output_type": "stream",
          "text": [
            "Saving Assignment1_denton_housing.csv to Assignment1_denton_housing (5).csv\n",
            "Occupied housing office from 2008 to 2014  is:\n",
            "    year             title_field  value\n",
            "20  2008  Occupied Housing Units  36711\n",
            "17  2009  Occupied Housing Units  35916\n",
            "14  2010  Occupied Housing Units  41007\n",
            "11  2011  Occupied Housing Units  40704\n",
            "8   2012  Occupied Housing Units  42108\n",
            "5   2013  Occupied Housing Units  43673\n",
            "2   2014  Occupied Housing Units  46295\n",
            "\n",
            "The difference between two consecutive years is:\n",
            "     value\n",
            "20     NaN\n",
            "17  -795.0\n",
            "14  5091.0\n",
            "11  -303.0\n",
            "8   1404.0\n",
            "5   1565.0\n",
            "2   2622.0\n",
            "\n",
            "The difference between two consecutive years in ascending order is: \n",
            "   year   Vacant %  Occupied %\n",
            "6  2008  10.882653   89.117347\n",
            "5  2009   9.071116   90.928884\n",
            "4  2010   8.142556   91.857444\n",
            "3  2011   9.379522   90.620478\n",
            "2  2012   6.677600   93.322400\n",
            "1  2013   8.801788   91.198212\n",
            "0  2014   5.730111   94.269889\n",
            "    year             title_field  value\n",
            "2   2014  Occupied Housing Units  46295\n",
            "5   2013  Occupied Housing Units  43673\n",
            "8   2012  Occupied Housing Units  42108\n",
            "11  2011  Occupied Housing Units  40704\n",
            "14  2010  Occupied Housing Units  41007\n",
            "17  2009  Occupied Housing Units  35916\n",
            "20  2008  Occupied Housing Units  36711\n",
            "\n",
            "     year           title_field  value\n",
            "1   2014  Vacant Housing Units   2814\n",
            "4   2013  Vacant Housing Units   4215\n",
            "7   2012  Vacant Housing Units   3013\n",
            "10  2011  Vacant Housing Units   4213\n",
            "13  2010  Vacant Housing Units   3635\n",
            "16  2009  Vacant Housing Units   3583\n",
            "19  2008  Vacant Housing Units   4483\n",
            "\n",
            "               title_field  year  value\n",
            "0    Vacant Housing Units  2008   4483\n",
            "1  Occupied Housing Units  2014  46295\n",
            "Requirement already satisfied: scipy in /usr/local/lib/python3.6/dist-packages (1.4.1)\n",
            "Requirement already satisfied: numpy>=1.13.3 in /usr/local/lib/python3.6/dist-packages (from scipy) (1.19.5)\n",
            "\n",
            "     year          title_field  value\n",
            "0   2014  Total Housing Units  49109\n",
            "3   2013  Total Housing Units  47888\n",
            "6   2012  Total Housing Units  45121\n",
            "9   2011  Total Housing Units  44917\n",
            "12  2010  Total Housing Units  44642\n",
            "15  2009  Total Housing Units  39499\n",
            "18  2008  Total Housing Units  41194\n",
            "\n",
            "The harmonic mean of the Total Housing Units is:\n"
          ],
          "name": "stdout"
        },
        {
          "output_type": "execute_result",
          "data": {
            "text/plain": [
              "44398.28543969185"
            ]
          },
          "metadata": {
            "tags": []
          },
          "execution_count": 20
        }
      ]
    }
  ]
}