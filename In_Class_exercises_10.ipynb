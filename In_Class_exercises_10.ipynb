{
  "nbformat": 4,
  "nbformat_minor": 0,
  "metadata": {
    "kernelspec": {
      "display_name": "Python 3",
      "language": "python",
      "name": "python3"
    },
    "language_info": {
      "codemirror_mode": {
        "name": "ipython",
        "version": 3
      },
      "file_extension": ".py",
      "mimetype": "text/x-python",
      "name": "python",
      "nbconvert_exporter": "python",
      "pygments_lexer": "ipython3",
      "version": "3.8.5"
    },
    "colab": {
      "name": "In_Class_exercises-10.ipynb",
      "provenance": [],
      "include_colab_link": true
    }
  },
  "cells": [
    {
      "cell_type": "markdown",
      "metadata": {
        "id": "view-in-github",
        "colab_type": "text"
      },
      "source": [
        "<a href=\"https://colab.research.google.com/github/mushamvineeth/Vineeth_INFO5731_Spring2021/blob/main/In_Class_exercises_10.ipynb\" target=\"_parent\"><img src=\"https://colab.research.google.com/assets/colab-badge.svg\" alt=\"Open In Colab\"/></a>"
      ]
    },
    {
      "cell_type": "markdown",
      "metadata": {
        "id": "vpILnnEvBysU"
      },
      "source": [
        "# In class exercise 10 (20 points in total, 4/16/2021)"
      ]
    },
    {
      "cell_type": "markdown",
      "metadata": {
        "id": "VI5Mv5eHBysX"
      },
      "source": [
        "The purpose of the exercise is to practice different machine learning algorithms for text clustering\n",
        "Please downlad the dataset by using the following link.  https://www.kaggle.com/PromptCloudHQ/amazon-reviews-unlocked-mobile-phones\n",
        "(You can also use different text data which you want)\n",
        "\n",
        "Apply the listed clustering methods to the dataset:\n",
        "\n",
        "K means, \n",
        "DBSCAN,\n",
        "Hierarchical clustering. \n",
        "\n",
        "You can refer to of the codes from  the follwing link below. \n",
        "https://www.kaggle.com/karthik3890/text-clustering \n",
        "    "
      ]
    },
    {
      "cell_type": "code",
      "metadata": {
        "colab": {
          "base_uri": "https://localhost:8080/"
        },
        "id": "hbO0l9XYBysY",
        "outputId": "e7743092-eb0e-41af-a4b9-2e0aeb9637b2"
      },
      "source": [
        "#Write your code here.\n",
        "\n",
        "\n",
        "import pandas as pd\n",
        "import gensim\n",
        "Data_frame=pd.read_csv(\"/content/Amazon_Unlocked_Mobile.csv\")\n",
        "import nltk\n",
        "nltk.download('punkt')\n",
        "from nltk.corpus import stopwords\n",
        "nltk.download('stopwords')\n",
        "from textblob import Word\n",
        "nltk.download('wordnet')\n",
        "from nltk.stem import PorterStemmer\n",
        "st = PorterStemmer()\n",
        "Data_frame = Data_frame[Data_frame['Reviews'].notnull()]\n",
        "stop = stopwords.words('english')\n",
        "Data_frame['after_punct_less'] = Data_frame['Reviews'].str.replace('[^\\w\\s].#','')\n",
        "Data_frame['after_rm_stopwords'] =Data_frame['after_punct_less'].apply(lambda x: \" \".join(x for x in x.split() if x not in stop))\n",
        "Data_frame['after_numerics']=Data_frame['after_rm_stopwords'].str.replace('[0-9]','')\n",
        "Data_frame['after_lowercasing'] =Data_frame['after_numerics'].apply(lambda x: \" \".join(x.lower() for x in x.split()))\n",
        "\n",
        "Data_frame['after_stemming']=Data_frame['after_lowercasing'].apply(lambda x: \" \".join([st.stem(word) for word in x.split()]))\n",
        "Data_frame['cleaned_text'] = Data_frame['after_stemming'].apply(lambda x: \" \".join([Word(word).lemmatize() for word in x.split()]))"
      ],
      "execution_count": 24,
      "outputs": [
        {
          "output_type": "stream",
          "text": [
            "[nltk_data] Downloading package punkt to /root/nltk_data...\n",
            "[nltk_data]   Package punkt is already up-to-date!\n",
            "[nltk_data] Downloading package stopwords to /root/nltk_data...\n",
            "[nltk_data]   Package stopwords is already up-to-date!\n",
            "[nltk_data] Downloading package wordnet to /root/nltk_data...\n",
            "[nltk_data]   Package wordnet is already up-to-date!\n"
          ],
          "name": "stdout"
        }
      ]
    },
    {
      "cell_type": "code",
      "metadata": {
        "colab": {
          "base_uri": "https://localhost:8080/"
        },
        "id": "z1SfoMAGEpRl",
        "outputId": "fcdbe158-3c23-4bd7-8df0-79ef2ce303d8"
      },
      "source": [
        "Data_frame['cleaned_text'].head()"
      ],
      "execution_count": 25,
      "outputs": [
        {
          "output_type": "execute_result",
          "data": {
            "text/plain": [
              "0    i feel lucki found use (phone u & use hard all...\n",
              "1    nice phone, nice grade pantach revue. veri cle...\n",
              "2                                            veri plea\n",
              "3      it work good goe slow sometim good phone i love\n",
              "4    great phone replac lost phone. the thing volum...\n",
              "Name: cleaned_text, dtype: object"
            ]
          },
          "metadata": {
            "tags": []
          },
          "execution_count": 25
        }
      ]
    },
    {
      "cell_type": "code",
      "metadata": {
        "id": "TMc4ptULEpaa"
      },
      "source": [
        "Data_frame_1=(df.sample(n=4000)).reset_index()"
      ],
      "execution_count": 26,
      "outputs": []
    },
    {
      "cell_type": "code",
      "metadata": {
        "colab": {
          "base_uri": "https://localhost:8080/"
        },
        "id": "3m_iyEZtEpl3",
        "outputId": "4f543954-6636-4287-d0e8-6ceafd39ccb6"
      },
      "source": [
        "\n",
        "from sklearn.feature_extraction.text import TfidfVectorizer\n",
        "tfidf_vect = TfidfVectorizer()\n",
        "tfidf = tfidf_vect.fit_transform(df_1['cleaned_text'].values)\n",
        "tfidf.shape"
      ],
      "execution_count": 28,
      "outputs": [
        {
          "output_type": "execute_result",
          "data": {
            "text/plain": [
              "(4000, 7245)"
            ]
          },
          "metadata": {
            "tags": []
          },
          "execution_count": 28
        }
      ]
    },
    {
      "cell_type": "code",
      "metadata": {
        "colab": {
          "base_uri": "https://localhost:8080/"
        },
        "id": "b-1EAXfXEpqj",
        "outputId": "4fddd3a3-2740-46b0-d1bd-30bc0b7a03f0"
      },
      "source": [
        "from sklearn.cluster import KMeans\n",
        "Model_tf = KMeans(n_clusters = 5, n_jobs = -1,random_state=99)\n",
        "Model_tf.fit(tfidf)"
      ],
      "execution_count": 29,
      "outputs": [
        {
          "output_type": "execute_result",
          "data": {
            "text/plain": [
              "KMeans(algorithm='auto', copy_x=True, init='k-means++', max_iter=300,\n",
              "       n_clusters=5, n_init=10, n_jobs=-1, precompute_distances='auto',\n",
              "       random_state=99, tol=0.0001, verbose=0)"
            ]
          },
          "metadata": {
            "tags": []
          },
          "execution_count": 29
        }
      ]
    },
    {
      "cell_type": "code",
      "metadata": {
        "id": "4_JRGW-EE0Wc"
      },
      "source": [
        "labels_tf = Model_tf.labels_\n",
        "cluster_center_tf=Model_tf.cluster_centers_"
      ],
      "execution_count": 31,
      "outputs": []
    },
    {
      "cell_type": "code",
      "metadata": {
        "colab": {
          "base_uri": "https://localhost:8080/",
          "height": 717
        },
        "id": "rx7e8CZgE0Zt",
        "outputId": "2bfc254d-66db-4b1f-8dd1-f7ae65b3fb1b"
      },
      "source": [
        "terms_1 = tfidf_vect.get_feature_names()\n",
        "terms_1[1:5]\n",
        "Data_frame1 = df_1\n",
        "Data_frame1['Tfidf Clus Label'] = model_tf.labels_\n",
        "Data_frame1.head(5)"
      ],
      "execution_count": 32,
      "outputs": [
        {
          "output_type": "execute_result",
          "data": {
            "text/html": [
              "<div>\n",
              "<style scoped>\n",
              "    .dataframe tbody tr th:only-of-type {\n",
              "        vertical-align: middle;\n",
              "    }\n",
              "\n",
              "    .dataframe tbody tr th {\n",
              "        vertical-align: top;\n",
              "    }\n",
              "\n",
              "    .dataframe thead th {\n",
              "        text-align: right;\n",
              "    }\n",
              "</style>\n",
              "<table border=\"1\" class=\"dataframe\">\n",
              "  <thead>\n",
              "    <tr style=\"text-align: right;\">\n",
              "      <th></th>\n",
              "      <th>index</th>\n",
              "      <th>Product Name</th>\n",
              "      <th>Brand Name</th>\n",
              "      <th>Price</th>\n",
              "      <th>Rating</th>\n",
              "      <th>Reviews</th>\n",
              "      <th>Review Votes</th>\n",
              "      <th>after_punct_less</th>\n",
              "      <th>after_rm_stopwords</th>\n",
              "      <th>after_numerics</th>\n",
              "      <th>after_lowercasing</th>\n",
              "      <th>after_stemming</th>\n",
              "      <th>cleaned_text</th>\n",
              "      <th>Tfidf Clus Label</th>\n",
              "      <th>AVG-W2V Clus Label</th>\n",
              "    </tr>\n",
              "  </thead>\n",
              "  <tbody>\n",
              "    <tr>\n",
              "      <th>0</th>\n",
              "      <td>106512</td>\n",
              "      <td>BLU Advance 4.0L Unlocked Smartphone -US GSM -...</td>\n",
              "      <td>BLU</td>\n",
              "      <td>57.29</td>\n",
              "      <td>5</td>\n",
              "      <td>Good</td>\n",
              "      <td>0.0</td>\n",
              "      <td>Good</td>\n",
              "      <td>Good</td>\n",
              "      <td>Good</td>\n",
              "      <td>good</td>\n",
              "      <td>good</td>\n",
              "      <td>good</td>\n",
              "      <td>1</td>\n",
              "      <td>4</td>\n",
              "    </tr>\n",
              "    <tr>\n",
              "      <th>1</th>\n",
              "      <td>214252</td>\n",
              "      <td>LG G Flex2 LS996 16GB Sprint (Locked) No-Contr...</td>\n",
              "      <td>LG</td>\n",
              "      <td>169.99</td>\n",
              "      <td>3</td>\n",
              "      <td>So far so great. Terrific condition. Had plast...</td>\n",
              "      <td>1.0</td>\n",
              "      <td>So far so great. Terrific condition. Had plast...</td>\n",
              "      <td>So far great. Terrific condition. Had plastics...</td>\n",
              "      <td>So far great. Terrific condition. Had plastics...</td>\n",
              "      <td>so far great. terrific condition. had plastics...</td>\n",
              "      <td>so far great. terrif condition. had plastic bo...</td>\n",
              "      <td>so far great. terrif condition. had plastic bo...</td>\n",
              "      <td>0</td>\n",
              "      <td>0</td>\n",
              "    </tr>\n",
              "    <tr>\n",
              "      <th>2</th>\n",
              "      <td>370407</td>\n",
              "      <td>Samsung Galaxy S7 Edge Duos SM-G935FD 32GB Dua...</td>\n",
              "      <td>Samsung</td>\n",
              "      <td>590.49</td>\n",
              "      <td>4</td>\n",
              "      <td>I FIRST EXPERIENCE ONLINE PHONE ORDERBUT REALY...</td>\n",
              "      <td>1.0</td>\n",
              "      <td>I FIRST EXPERIENCE ONLINE PHONE ORDERBUT REALY...</td>\n",
              "      <td>I FIRST EXPERIENCE ONLINE PHONE ORDERBUT REALY...</td>\n",
              "      <td>I FIRST EXPERIENCE ONLINE PHONE ORDERBUT REALY...</td>\n",
              "      <td>i first experience online phone orderbut realy...</td>\n",
              "      <td>i first experi onlin phone orderbut reali good...</td>\n",
              "      <td>i first experi onlin phone orderbut reali good...</td>\n",
              "      <td>0</td>\n",
              "      <td>0</td>\n",
              "    </tr>\n",
              "    <tr>\n",
              "      <th>3</th>\n",
              "      <td>225141</td>\n",
              "      <td>LG Google Nexus 5 (D821) 16GB , 3G, 8MP, KitKa...</td>\n",
              "      <td>LG</td>\n",
              "      <td>257.72</td>\n",
              "      <td>5</td>\n",
              "      <td>Great smartphone! I use Android 5.1, and don't...</td>\n",
              "      <td>0.0</td>\n",
              "      <td>Great smartphone! I use Android 5.1, and don't...</td>\n",
              "      <td>Great smartphone! I use Android 5.1, problems....</td>\n",
              "      <td>Great smartphone! I use Android ., problems. T...</td>\n",
              "      <td>great smartphone! i use android ., problems. t...</td>\n",
              "      <td>great smartphone! i use android ., problems. t...</td>\n",
              "      <td>great smartphone! i use android ., problems. t...</td>\n",
              "      <td>0</td>\n",
              "      <td>6</td>\n",
              "    </tr>\n",
              "    <tr>\n",
              "      <th>4</th>\n",
              "      <td>158421</td>\n",
              "      <td>BLU Tank II T193 Unlocked GSM Dual-SIM Cell Ph...</td>\n",
              "      <td>BLU</td>\n",
              "      <td>20.99</td>\n",
              "      <td>5</td>\n",
              "      <td>excelente</td>\n",
              "      <td>0.0</td>\n",
              "      <td>excelente</td>\n",
              "      <td>excelente</td>\n",
              "      <td>excelente</td>\n",
              "      <td>excelente</td>\n",
              "      <td>excelent</td>\n",
              "      <td>excelent</td>\n",
              "      <td>0</td>\n",
              "      <td>5</td>\n",
              "    </tr>\n",
              "  </tbody>\n",
              "</table>\n",
              "</div>"
            ],
            "text/plain": [
              "    index  ... AVG-W2V Clus Label\n",
              "0  106512  ...                  4\n",
              "1  214252  ...                  0\n",
              "2  370407  ...                  0\n",
              "3  225141  ...                  6\n",
              "4  158421  ...                  5\n",
              "\n",
              "[5 rows x 15 columns]"
            ]
          },
          "metadata": {
            "tags": []
          },
          "execution_count": 32
        }
      ]
    },
    {
      "cell_type": "code",
      "metadata": {
        "colab": {
          "base_uri": "https://localhost:8080/"
        },
        "id": "GfR_tTckFDwB",
        "outputId": "30d8d2c8-4c41-43a4-c1d4-b64844293dce"
      },
      "source": [
        "df1.groupby(['Tfidf Clus Label'])['cleaned_text'].count()"
      ],
      "execution_count": 33,
      "outputs": [
        {
          "output_type": "execute_result",
          "data": {
            "text/plain": [
              "Tfidf Clus Label\n",
              "0    3424\n",
              "1     169\n",
              "2     118\n",
              "3     146\n",
              "4     143\n",
              "Name: cleaned_text, dtype: int64"
            ]
          },
          "metadata": {
            "tags": []
          },
          "execution_count": 33
        }
      ]
    },
    {
      "cell_type": "code",
      "metadata": {
        "colab": {
          "base_uri": "https://localhost:8080/"
        },
        "id": "QkMZpJ2KFDzZ",
        "outputId": "5ff0cf21-c9df-4f39-e426-3b2211b08956"
      },
      "source": [
        "print(\"Top terms per cluster:\")\n",
        "order_centroids = model_tf.cluster_centers_.argsort()[:, ::-1]\n",
        "for i in range(1,5):\n",
        "    print(\"Cluster %d:\" % i, end='')\n",
        "    for ind in order_centroids[i, :5]:\n",
        "        print(' %s' % terms1[ind], end='')\n",
        "        print()"
      ],
      "execution_count": 34,
      "outputs": [
        {
          "output_type": "stream",
          "text": [
            "Top terms per cluster:\n",
            "Cluster 1: good\n",
            " veri\n",
            " phone\n",
            " price\n",
            " product\n",
            "Cluster 2: excel\n",
            " product\n",
            " recommend\n",
            " phone\n",
            " thank\n",
            "Cluster 3: love\n",
            " it\n",
            " phone\n",
            " my\n",
            " daughter\n",
            "Cluster 4: great\n",
            " phone\n",
            " product\n",
            " work\n",
            " price\n"
          ],
          "name": "stdout"
        }
      ]
    },
    {
      "cell_type": "code",
      "metadata": {
        "id": "WJpdxPlPFD2w"
      },
      "source": [
        "from sklearn.cluster import DBSCAN\n",
        "import numpy as np\n",
        "import matplotlib.pyplot as plt\n",
        "import gensim"
      ],
      "execution_count": 35,
      "outputs": []
    },
    {
      "cell_type": "code",
      "metadata": {
        "id": "Be0C-2JHFD5-"
      },
      "source": [
        "i=0\n",
        "list_of_sent=[]\n",
        "for sent in df_1['cleaned_text'].values:\n",
        "    list_of_sent.append(sent.split())"
      ],
      "execution_count": 37,
      "outputs": []
    },
    {
      "cell_type": "code",
      "metadata": {
        "colab": {
          "base_uri": "https://localhost:8080/"
        },
        "id": "YOC6B-_zFD9I",
        "outputId": "ce52077f-f485-411c-c457-f8d51114987f"
      },
      "source": [
        "w2v_model=gensim.models.Word2Vec(list_of_sent,size=100, workers=4)\n",
        "import numpy as np\n",
        "sent_vectors = [];\n",
        " # The avg-w2v for each sentence/review is stored in this train\n",
        "for sent in list_of_sent:\n",
        " # For each review/sentence\n",
        "    sent_vec = np.zeros(100)\n",
        "# As word vectors are of zero length\n",
        "    cnt_words =0;\n",
        "# num of words with a valid vector in the sentence/review\n",
        "    for word in sent:\n",
        "# For each word in a review/sentence\n",
        "        try:\n",
        "            vec = w2v_model.wv[word]\n",
        "            sent_vec += vec\n",
        "            cnt_words += 1\n",
        "        except:\n",
        "            pass\n",
        "    sent_vec /= cnt_words\n",
        "    sent_vectors.append(sent_vec)\n",
        "sent_vectors = np.array(sent_vectors)\n",
        "sent_vectors = np.nan_to_num(sent_vectors)\n",
        "sent_vectors.shape"
      ],
      "execution_count": 39,
      "outputs": [
        {
          "output_type": "stream",
          "text": [
            "/usr/local/lib/python3.7/dist-packages/ipykernel_launcher.py:19: RuntimeWarning: invalid value encountered in true_divide\n"
          ],
          "name": "stderr"
        },
        {
          "output_type": "execute_result",
          "data": {
            "text/plain": [
              "(4000, 100)"
            ]
          },
          "metadata": {
            "tags": []
          },
          "execution_count": 39
        }
      ]
    },
    {
      "cell_type": "markdown",
      "metadata": {
        "id": "QRjXZ2yYLAlp"
      },
      "source": [
        "**REFERENCE**:Lower bound function :https://gist.github.com/m00nlight/0f9306b4d4e61ba0195f"
      ]
    },
    {
      "cell_type": "code",
      "metadata": {
        "id": "LFa2J2x1FEAL"
      },
      "source": [
        "# Computing 200th Nearest neighbour distance\n",
        "minPts = 2 * 100\n",
        "def lower_bound(nums, target): # This function return the number in the array just greater than or equal to itself.\n",
        "    l, r = 0, len(nums) - 1\n",
        "    while l <= r: # Binary searching.\n",
        "        mid = int(l + (r - l) / 2)\n",
        "        if nums[mid] >= target:\n",
        "            r = mid - 1\n",
        "        else:\n",
        "            l = mid + 1\n",
        "    return l\n",
        "\n",
        "def compute200thnearestneighbour(x, data): # Returns the distance of 200th nearest neighbour.\n",
        "    dists = []\n",
        "    for val in data:\n",
        "        dist = np.sum((x - val) **2 ) # computing distances.\n",
        "        if(len(dists) == 200 and dists[199] > dist): # If distance is larger than current largest distance found.\n",
        "            l = int(lower_bound(dists, dist)) # Using the lower bound function to get the right position.\n",
        "            if l < 200 and l >= 0 and dists[l] > dist:\n",
        "                dists[l] = dist\n",
        "        else:\n",
        "            dists.append(dist)\n",
        "            dists.sort()\n",
        "    \n",
        "    return dists[199]"
      ],
      "execution_count": 40,
      "outputs": []
    },
    {
      "cell_type": "code",
      "metadata": {
        "id": "IcyMgm-fEpuc"
      },
      "source": [
        "twohundrethneigh = []\n",
        "for val in sent_vectors[:1500]:\n",
        "    twohundrethneigh.append( compute200thnearestneighbour(val, sent_vectors[:1500]) )\n",
        "twohundrethneigh.sort()"
      ],
      "execution_count": 41,
      "outputs": []
    },
    {
      "cell_type": "code",
      "metadata": {
        "colab": {
          "base_uri": "https://localhost:8080/",
          "height": 350
        },
        "id": "_LS6yndTFmTj",
        "outputId": "6a4fff89-8fed-45e8-e9a6-e9684173d501"
      },
      "source": [
        "plt.figure(figsize=(15,5))\n",
        "plt.title(\"Elbow Method for Finding the right Eps hyperparameter\")\n",
        "plt.plot([x for x in range(len(twohundrethneigh))], twohundrethneigh)\n",
        "plt.xlabel(\"Number of points\")\n",
        "plt.ylabel(\"Distance of 200th Nearest Neighbour\")\n",
        "plt.show()"
      ],
      "execution_count": 42,
      "outputs": [
        {
          "output_type": "display_data",
          "data": {
            "image/png": "[encoded data removed]",
            "text/plain": [
              "<Figure size 1080x360 with 1 Axes>"
            ]
          },
          "metadata": {
            "tags": [],
            "needs_background": "light"
          }
        }
      ]
    },
    {
      "cell_type": "code",
      "metadata": {
        "colab": {
          "base_uri": "https://localhost:8080/",
          "height": 369
        },
        "id": "_kW0mjJAFmW-",
        "outputId": "da149efa-bd10-486b-b5d1-ead86f5320e3"
      },
      "source": [
        "Model = DBSCAN(eps = 8, min_samples = minPts, n_jobs=-2)\n",
        "Model.fit(sent_vectors)\n",
        "df_1['AVG-W2V Clus Label'] = Model.labels_\n",
        "df_1.head(2)"
      ],
      "execution_count": 44,
      "outputs": [
        {
          "output_type": "execute_result",
          "data": {
            "text/html": [
              "<div>\n",
              "<style scoped>\n",
              "    .dataframe tbody tr th:only-of-type {\n",
              "        vertical-align: middle;\n",
              "    }\n",
              "\n",
              "    .dataframe tbody tr th {\n",
              "        vertical-align: top;\n",
              "    }\n",
              "\n",
              "    .dataframe thead th {\n",
              "        text-align: right;\n",
              "    }\n",
              "</style>\n",
              "<table border=\"1\" class=\"dataframe\">\n",
              "  <thead>\n",
              "    <tr style=\"text-align: right;\">\n",
              "      <th></th>\n",
              "      <th>index</th>\n",
              "      <th>Product Name</th>\n",
              "      <th>Brand Name</th>\n",
              "      <th>Price</th>\n",
              "      <th>Rating</th>\n",
              "      <th>Reviews</th>\n",
              "      <th>Review Votes</th>\n",
              "      <th>after_punct_less</th>\n",
              "      <th>after_rm_stopwords</th>\n",
              "      <th>after_numerics</th>\n",
              "      <th>after_lowercasing</th>\n",
              "      <th>after_stemming</th>\n",
              "      <th>cleaned_text</th>\n",
              "      <th>Tfidf Clus Label</th>\n",
              "      <th>AVG-W2V Clus Label</th>\n",
              "    </tr>\n",
              "  </thead>\n",
              "  <tbody>\n",
              "    <tr>\n",
              "      <th>0</th>\n",
              "      <td>106512</td>\n",
              "      <td>BLU Advance 4.0L Unlocked Smartphone -US GSM -...</td>\n",
              "      <td>BLU</td>\n",
              "      <td>57.29</td>\n",
              "      <td>5</td>\n",
              "      <td>Good</td>\n",
              "      <td>0.0</td>\n",
              "      <td>Good</td>\n",
              "      <td>Good</td>\n",
              "      <td>Good</td>\n",
              "      <td>good</td>\n",
              "      <td>good</td>\n",
              "      <td>good</td>\n",
              "      <td>1</td>\n",
              "      <td>0</td>\n",
              "    </tr>\n",
              "    <tr>\n",
              "      <th>1</th>\n",
              "      <td>214252</td>\n",
              "      <td>LG G Flex2 LS996 16GB Sprint (Locked) No-Contr...</td>\n",
              "      <td>LG</td>\n",
              "      <td>169.99</td>\n",
              "      <td>3</td>\n",
              "      <td>So far so great. Terrific condition. Had plast...</td>\n",
              "      <td>1.0</td>\n",
              "      <td>So far so great. Terrific condition. Had plast...</td>\n",
              "      <td>So far great. Terrific condition. Had plastics...</td>\n",
              "      <td>So far great. Terrific condition. Had plastics...</td>\n",
              "      <td>so far great. terrific condition. had plastics...</td>\n",
              "      <td>so far great. terrif condition. had plastic bo...</td>\n",
              "      <td>so far great. terrif condition. had plastic bo...</td>\n",
              "      <td>0</td>\n",
              "      <td>0</td>\n",
              "    </tr>\n",
              "  </tbody>\n",
              "</table>\n",
              "</div>"
            ],
            "text/plain": [
              "    index  ... AVG-W2V Clus Label\n",
              "0  106512  ...                  0\n",
              "1  214252  ...                  0\n",
              "\n",
              "[2 rows x 15 columns]"
            ]
          },
          "metadata": {
            "tags": []
          },
          "execution_count": 44
        }
      ]
    },
    {
      "cell_type": "code",
      "metadata": {
        "colab": {
          "base_uri": "https://localhost:8080/",
          "height": 285
        },
        "id": "lr1OXhimF07u",
        "outputId": "5f4c2688-82db-4c61-80d0-c7beb51e1844"
      },
      "source": [
        "import scipy\n",
        "from scipy.cluster import hierarchy\n",
        "dendro=hierarchy.dendrogram(hierarchy.linkage(sent_vectors,method='ward'))\n",
        "plt.axhline(y=20)"
      ],
      "execution_count": 45,
      "outputs": [
        {
          "output_type": "execute_result",
          "data": {
            "text/plain": [
              "<matplotlib.lines.Line2D at 0x7fee4619e050>"
            ]
          },
          "metadata": {
            "tags": []
          },
          "execution_count": 45
        },
        {
          "output_type": "display_data",
          "data": {
            "image/png": "[encoded data removed]",
            "text/plain": [
              "<Figure size 432x288 with 1 Axes>"
            ]
          },
          "metadata": {
            "tags": [],
            "needs_background": "light"
          }
        }
      ]
    },
    {
      "cell_type": "code",
      "metadata": {
        "id": "VJVqGh19F0_x"
      },
      "source": [
        "from sklearn.cluster import AgglomerativeClustering\n",
        "\n",
        "cluster = AgglomerativeClustering(n_clusters=7, affinity='euclidean', linkage='ward')  \n",
        "Agg=cluster.fit_predict(sent_vectors)"
      ],
      "execution_count": 46,
      "outputs": []
    },
    {
      "cell_type": "code",
      "metadata": {
        "colab": {
          "base_uri": "https://localhost:8080/"
        },
        "id": "eiyxZR5uF1DL",
        "outputId": "7bd48d21-5d8c-4431-913d-d59cadb632b8"
      },
      "source": [
        "df_1['AVG-W2V Clus Label'] = cluster.labels_\n",
        "df_1.head(2)\n",
        "df_1.groupby(['AVG-W2V Clus Label'])['cleaned_text'].count()"
      ],
      "execution_count": 47,
      "outputs": [
        {
          "output_type": "execute_result",
          "data": {
            "text/plain": [
              "AVG-W2V Clus Label\n",
              "0     932\n",
              "1    1435\n",
              "2     218\n",
              "3     129\n",
              "4     553\n",
              "5     100\n",
              "6     633\n",
              "Name: cleaned_text, dtype: int64"
            ]
          },
          "metadata": {
            "tags": []
          },
          "execution_count": 47
        }
      ]
    },
    {
      "cell_type": "code",
      "metadata": {
        "colab": {
          "base_uri": "https://localhost:8080/"
        },
        "id": "m2VSiROeF1Gc",
        "outputId": "80c91e84-a276-489d-c1be-48a5998f50bc"
      },
      "source": [
        "for i in range(5):\n",
        "    print(\"2 reviews of assigned to cluster \", i)\n",
        "    print(\"-\" * 70)\n",
        "    print(df_1.iloc[df_1.groupby(['AVG-W2V Clus Label']).groups[i][0]]['cleaned_text'])\n",
        "    print('\\n')\n",
        "    print(df_1.iloc[df_1.groupby(['AVG-W2V Clus Label']).groups[i][1]]['cleaned_text'])\n",
        "    print('\\n')\n",
        "    print(\"_\" * 70)"
      ],
      "execution_count": 48,
      "outputs": [
        {
          "output_type": "stream",
          "text": [
            "2 reviews of assigned to cluster  0\n",
            "----------------------------------------------------------------------\n",
            "so far great. terrif condition. had plastic box charger. phone screen get hot. like super hot. i feel finger tip get warm use min so. kinda weird\n",
            "\n",
            "\n",
            "i first experi onlin phone orderbut reali good excellent, i m happi with amazon shoping, and i reali like amazon ship order track system.\n",
            "\n",
            "\n",
            "______________________________________________________________________\n",
            "2 reviews of assigned to cluster  1\n",
            "----------------------------------------------------------------------\n",
            "receiv phone time manner,and happi i got g i order g. final get use phone dead lunch break. batteri life horribl serial number phone match box. these advertis new certainli reburbished, stay away if you want a new phone !\n",
            "\n",
            "\n",
            "phone good condit batteri lost charg quickly.\n",
            "\n",
            "\n",
            "______________________________________________________________________\n",
            "2 reviews of assigned to cluster  2\n",
            "----------------------------------------------------------------------\n",
            "great product!\n",
            "\n",
            "\n",
            "great condition, visibl flaw whatsoever. howev warn softwar phone updat yet. (it still current softwar io ..)\n",
            "\n",
            "\n",
            "______________________________________________________________________\n",
            "2 reviews of assigned to cluster  3\n",
            "----------------------------------------------------------------------\n",
            "excellent!!!!!\n",
            "\n",
            "\n",
            "exelent...!!!\n",
            "\n",
            "\n",
            "______________________________________________________________________\n",
            "2 reviews of assigned to cluster  4\n",
            "----------------------------------------------------------------------\n",
            "good\n",
            "\n",
            "\n",
            "great phone. like better iphon\n",
            "\n",
            "\n",
            "______________________________________________________________________\n"
          ],
          "name": "stdout"
        }
      ]
    },
    {
      "cell_type": "code",
      "metadata": {
        "id": "fvljYU21GCpg"
      },
      "source": [
        ""
      ],
      "execution_count": null,
      "outputs": []
    },
    {
      "cell_type": "markdown",
      "metadata": {
        "id": "JVV5i5HiBysY"
      },
      "source": [
        "In one paragraph, please compare K means, DBSCAN and Hierarchical clustering. "
      ]
    },
    {
      "cell_type": "markdown",
      "metadata": {
        "id": "sQmd86LCM9pF"
      },
      "source": [
        "\n",
        "k-values Clustering is a vector quantization method originating in signal processing that aims to partition n observations into k clusters, with each observation belonging to the cluster with the closest mean, which serves as the cluster's prototype. The result shows that k-means are easier to comprehend than DBSCAN. Also missing values in a data set can be controlled by the DBSCAN.There is a lot of noise in hierarchical clustering. We may assume that k-means are the easiest and most optimal solution.\n",
        "\n",
        "\n",
        "\n",
        "\n",
        "\n",
        "\n",
        "\n"
      ]
    }
  ]
}